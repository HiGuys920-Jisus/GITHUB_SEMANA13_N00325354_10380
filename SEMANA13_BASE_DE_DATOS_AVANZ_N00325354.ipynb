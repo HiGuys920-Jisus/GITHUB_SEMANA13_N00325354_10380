{
  "nbformat": 4,
  "nbformat_minor": 0,
  "metadata": {
    "colab": {
      "provenance": []
    },
    "kernelspec": {
      "name": "python3",
      "display_name": "Python 3"
    },
    "language_info": {
      "name": "python"
    }
  },
  "cells": [
    {
      "cell_type": "markdown",
      "source": [
        "Nombre: JESUS ENMANUEL AGUIRRE RAMOS\n",
        "\n",
        "SEMANA 13\n",
        "\n",
        "CURSO: BASE DE DATOS AVANZADA & BIG DATA"
      ],
      "metadata": {
        "id": "apYW-cycs-TQ"
      }
    },
    {
      "cell_type": "markdown",
      "source": [
        "Para el Siguiente Ejercicio, se muestra a un Alumno, con las Notas Siguientes, T1, T2, T3 y EF:\n",
        "\n",
        "Cursos;T1;T2;T3;EF\n",
        "\n",
        "Matematicas;15;14;12;14\n",
        "\n",
        "Computacion Grafica;16;14;19;16\n",
        "\n",
        "Metodologia Universitaria;13;7;15;16\n",
        "\n",
        "Base de Datos Avanzada;19;14;15;18\n",
        "\n",
        "Modelamiento y Analisis de Software;20;14;16;18\n",
        "\n",
        "Se desea hallar la Media, Moda, Mediana y la Correlaccion de todas las Notas Obtenidas en el progreso de su ciclo\n",
        "\n"
      ],
      "metadata": {
        "id": "oojR3_QirFZP"
      }
    },
    {
      "cell_type": "code",
      "execution_count": null,
      "metadata": {
        "id": "8v7j_ZJvk_Iu"
      },
      "outputs": [],
      "source": [
        "from pyspark.sql import SparkSession\n",
        "from pyspark.sql.functions import col, expr, mean, corr"
      ]
    },
    {
      "cell_type": "code",
      "source": [
        "spark = SparkSession.builder.appName(\"Semana13_N00325354\").getOrCreate()"
      ],
      "metadata": {
        "id": "-nnEBE2LlEJt"
      },
      "execution_count": null,
      "outputs": []
    },
    {
      "cell_type": "code",
      "source": [
        "spark"
      ],
      "metadata": {
        "colab": {
          "base_uri": "https://localhost:8080/",
          "height": 219
        },
        "id": "6XI69Oh9lLIU",
        "outputId": "efaed2e1-cb3b-448c-c5c4-2415023a0b41"
      },
      "execution_count": null,
      "outputs": [
        {
          "output_type": "execute_result",
          "data": {
            "text/plain": [
              "<pyspark.sql.session.SparkSession at 0x7bcd71b36710>"
            ],
            "text/html": [
              "\n",
              "            <div>\n",
              "                <p><b>SparkSession - in-memory</b></p>\n",
              "                \n",
              "        <div>\n",
              "            <p><b>SparkContext</b></p>\n",
              "\n",
              "            <p><a href=\"http://8a7cdd21fc5b:4040\">Spark UI</a></p>\n",
              "\n",
              "            <dl>\n",
              "              <dt>Version</dt>\n",
              "                <dd><code>v3.5.3</code></dd>\n",
              "              <dt>Master</dt>\n",
              "                <dd><code>local[*]</code></dd>\n",
              "              <dt>AppName</dt>\n",
              "                <dd><code>Semana13_N00325354</code></dd>\n",
              "            </dl>\n",
              "        </div>\n",
              "        \n",
              "            </div>\n",
              "        "
            ]
          },
          "metadata": {},
          "execution_count": 3
        }
      ]
    },
    {
      "cell_type": "markdown",
      "source": [
        "INGRESO DE DATOS:"
      ],
      "metadata": {
        "id": "XMRetuk0sohv"
      }
    },
    {
      "cell_type": "code",
      "source": [
        "data_notas_jesus = [(\"Matematicas\",15,14,12,14),(\"Computacion Grafica\",16,14,19,16),(\"Metodologia Universitaria\",13,7,15,16),(\"Base de Datos Avanzada\",19,14,15,18),(\"Modelamiento y Analisis de Software\",20,14,16,18)]\n",
        "columns = [\"Cursos\",\"T1\",\"T2\",\"T3\",\"EF\"]\n",
        "variable = spark.createDataFrame(data_notas_jesus,columns)"
      ],
      "metadata": {
        "id": "G2zSI0allOI8"
      },
      "execution_count": null,
      "outputs": []
    },
    {
      "cell_type": "markdown",
      "source": [
        "HALLAR LA MEDIA"
      ],
      "metadata": {
        "id": "NS0gvhnKsr_m"
      }
    },
    {
      "cell_type": "code",
      "source": [
        "variable.select(mean(col(\"T1\")).alias(\"Media de la T1\")).show()"
      ],
      "metadata": {
        "colab": {
          "base_uri": "https://localhost:8080/"
        },
        "id": "-nYbkhW1nSJ2",
        "outputId": "424f9c68-b0fd-4553-a473-9d4bf49c936b"
      },
      "execution_count": null,
      "outputs": [
        {
          "output_type": "stream",
          "name": "stdout",
          "text": [
            "+--------------+\n",
            "|Media de la T1|\n",
            "+--------------+\n",
            "|          16.6|\n",
            "+--------------+\n",
            "\n"
          ]
        }
      ]
    },
    {
      "cell_type": "code",
      "source": [
        "variable.select(mean(col(\"T2\")).alias(\"Media de la T2\")).show()"
      ],
      "metadata": {
        "colab": {
          "base_uri": "https://localhost:8080/"
        },
        "id": "5tEf35-fn0uk",
        "outputId": "89445a61-be44-40b2-df0c-a9135b47e896"
      },
      "execution_count": null,
      "outputs": [
        {
          "output_type": "stream",
          "name": "stdout",
          "text": [
            "+--------------+\n",
            "|Media de la T2|\n",
            "+--------------+\n",
            "|          12.6|\n",
            "+--------------+\n",
            "\n"
          ]
        }
      ]
    },
    {
      "cell_type": "code",
      "source": [
        "variable.select(mean(col(\"T3\")).alias(\"Media de la T3\")).show()"
      ],
      "metadata": {
        "colab": {
          "base_uri": "https://localhost:8080/"
        },
        "id": "0Enay1DGn5gM",
        "outputId": "f1fd8c5e-3c83-4f8e-c99b-57ec8aba1ea1"
      },
      "execution_count": null,
      "outputs": [
        {
          "output_type": "stream",
          "name": "stdout",
          "text": [
            "+--------------+\n",
            "|Media de la T3|\n",
            "+--------------+\n",
            "|          15.4|\n",
            "+--------------+\n",
            "\n"
          ]
        }
      ]
    },
    {
      "cell_type": "code",
      "source": [
        "variable.select(mean(col(\"EF\")).alias(\"Media del Examen Final\")).show()"
      ],
      "metadata": {
        "colab": {
          "base_uri": "https://localhost:8080/"
        },
        "id": "q9fD70PIn-p0",
        "outputId": "8b6cb711-665d-442f-999d-113a43243f0f"
      },
      "execution_count": null,
      "outputs": [
        {
          "output_type": "stream",
          "name": "stdout",
          "text": [
            "+----------------------+\n",
            "|Media del Examen Final|\n",
            "+----------------------+\n",
            "|                  16.4|\n",
            "+----------------------+\n",
            "\n"
          ]
        }
      ]
    },
    {
      "cell_type": "code",
      "source": [
        "variable.select(mean(col(\"T1\")).alias(\"Media de la T1\")).collect()[0][\"Media de la T1\"]"
      ],
      "metadata": {
        "colab": {
          "base_uri": "https://localhost:8080/"
        },
        "id": "c8BiHzqknhz8",
        "outputId": "2ca79a05-dec3-43b6-8474-aa50dd11d270"
      },
      "execution_count": null,
      "outputs": [
        {
          "output_type": "execute_result",
          "data": {
            "text/plain": [
              "16.6"
            ]
          },
          "metadata": {},
          "execution_count": 7
        }
      ]
    },
    {
      "cell_type": "code",
      "source": [
        "variable.select(mean(col(\"T2\")).alias(\"Media de la T2\")).collect()[0][\"Media de la T2\"]"
      ],
      "metadata": {
        "colab": {
          "base_uri": "https://localhost:8080/"
        },
        "id": "e0FGwSF5oGGV",
        "outputId": "0ff3a4cf-48af-4daa-f6a9-75435f1a3e68"
      },
      "execution_count": null,
      "outputs": [
        {
          "output_type": "execute_result",
          "data": {
            "text/plain": [
              "12.6"
            ]
          },
          "metadata": {},
          "execution_count": 11
        }
      ]
    },
    {
      "cell_type": "code",
      "source": [
        "variable.select(mean(col(\"T3\")).alias(\"Media de la T3\")).collect()[0][\"Media de la T3\"]"
      ],
      "metadata": {
        "colab": {
          "base_uri": "https://localhost:8080/"
        },
        "id": "EfNeV5rDoJM8",
        "outputId": "e3ffb0f3-25f0-4b82-a90c-c1ebebefc8ec"
      },
      "execution_count": null,
      "outputs": [
        {
          "output_type": "execute_result",
          "data": {
            "text/plain": [
              "15.4"
            ]
          },
          "metadata": {},
          "execution_count": 12
        }
      ]
    },
    {
      "cell_type": "code",
      "source": [
        "variable.select(mean(col(\"EF\")).alias(\"Media del Examen Final\")).collect()[0][\"Media del Examen Final\"]"
      ],
      "metadata": {
        "colab": {
          "base_uri": "https://localhost:8080/"
        },
        "id": "d7_N4sGboMnU",
        "outputId": "ba30decf-7395-4dca-99bd-113d4295bdb5"
      },
      "execution_count": null,
      "outputs": [
        {
          "output_type": "execute_result",
          "data": {
            "text/plain": [
              "16.4"
            ]
          },
          "metadata": {},
          "execution_count": 13
        }
      ]
    },
    {
      "cell_type": "markdown",
      "source": [
        "HALLAR LA MEDIANA:"
      ],
      "metadata": {
        "id": "1cg8-Wt0svbu"
      }
    },
    {
      "cell_type": "code",
      "source": [
        "var_mediana_t1 = variable.approxQuantile(\"T1\",[0.5],0.0)"
      ],
      "metadata": {
        "id": "LsbbaykNoVL0"
      },
      "execution_count": null,
      "outputs": []
    },
    {
      "cell_type": "code",
      "source": [
        "print(\"La Mediana de la T1 es:\", var_mediana_t1)"
      ],
      "metadata": {
        "colab": {
          "base_uri": "https://localhost:8080/"
        },
        "id": "tbNWYlQJoih8",
        "outputId": "15871842-deca-4d3b-b3d4-542ee07dfac5"
      },
      "execution_count": null,
      "outputs": [
        {
          "output_type": "stream",
          "name": "stdout",
          "text": [
            "La Mediana de la T1 es: [16.0]\n"
          ]
        }
      ]
    },
    {
      "cell_type": "code",
      "source": [
        "var_mediana_t2 = variable.approxQuantile(\"T2\",[0.5],0.0)"
      ],
      "metadata": {
        "id": "jbNN6C0jord0"
      },
      "execution_count": null,
      "outputs": []
    },
    {
      "cell_type": "code",
      "source": [
        "print(\"La Mediana de la T2 es:\", var_mediana_t2)"
      ],
      "metadata": {
        "colab": {
          "base_uri": "https://localhost:8080/"
        },
        "id": "QhLSb1Q9ovKl",
        "outputId": "16893c3e-7952-4290-bee4-be82eb311b4a"
      },
      "execution_count": null,
      "outputs": [
        {
          "output_type": "stream",
          "name": "stdout",
          "text": [
            "La Mediana de la T2 es: [14.0]\n"
          ]
        }
      ]
    },
    {
      "cell_type": "code",
      "source": [
        "var_mediana_t3 = variable.approxQuantile(\"T3\",[0.5],0.0)"
      ],
      "metadata": {
        "id": "PRkmFQK8oz2t"
      },
      "execution_count": null,
      "outputs": []
    },
    {
      "cell_type": "code",
      "source": [
        "print(\"La Mediana de la T3 es:\", var_mediana_t3)"
      ],
      "metadata": {
        "colab": {
          "base_uri": "https://localhost:8080/"
        },
        "id": "2H9stY6ho3X9",
        "outputId": "efb05c19-d1d0-4543-d83f-ccde67369c69"
      },
      "execution_count": null,
      "outputs": [
        {
          "output_type": "stream",
          "name": "stdout",
          "text": [
            "La Mediana de la T3 es: [15.0]\n"
          ]
        }
      ]
    },
    {
      "cell_type": "code",
      "source": [
        "var_mediana_ef = variable.approxQuantile(\"EF\",[0.5],0.0)"
      ],
      "metadata": {
        "id": "ZJx8qDpzo6re"
      },
      "execution_count": null,
      "outputs": []
    },
    {
      "cell_type": "code",
      "source": [
        "print(\"La Mediana del Examen Final es:\", var_mediana_ef)"
      ],
      "metadata": {
        "colab": {
          "base_uri": "https://localhost:8080/"
        },
        "id": "zH5ueJfZo-t9",
        "outputId": "ede7c813-abc2-49d3-db8d-f0dc067efbab"
      },
      "execution_count": null,
      "outputs": [
        {
          "output_type": "stream",
          "name": "stdout",
          "text": [
            "La Mediana del Examen Final es: [16.0]\n"
          ]
        }
      ]
    },
    {
      "cell_type": "markdown",
      "source": [
        "Hallar la Moda:"
      ],
      "metadata": {
        "id": "ZhDZady4szPW"
      }
    },
    {
      "cell_type": "code",
      "source": [
        "var_moda_t1 = variable.groupBy(\"T1\").count().orderBy(col(\"count\").desc()).first()"
      ],
      "metadata": {
        "id": "eNN6XA_vpOgU"
      },
      "execution_count": null,
      "outputs": []
    },
    {
      "cell_type": "code",
      "source": [
        "print(\"La moda de la T1 es:\",var_moda_t1[\"T1\"])"
      ],
      "metadata": {
        "colab": {
          "base_uri": "https://localhost:8080/"
        },
        "id": "vPpdQwwmpSRF",
        "outputId": "4d278dac-f522-413a-b066-b12676cf5b92"
      },
      "execution_count": null,
      "outputs": [
        {
          "output_type": "stream",
          "name": "stdout",
          "text": [
            "La moda de la T1 es: 15\n"
          ]
        }
      ]
    },
    {
      "cell_type": "code",
      "source": [
        "var_moda_t2 = variable.groupBy(\"T2\").count().orderBy(col(\"count\").desc()).first()"
      ],
      "metadata": {
        "id": "iVBgSSPEpb28"
      },
      "execution_count": null,
      "outputs": []
    },
    {
      "cell_type": "code",
      "source": [
        "print(\"La moda de la T2 es:\",var_moda_t2[\"T2\"])"
      ],
      "metadata": {
        "colab": {
          "base_uri": "https://localhost:8080/"
        },
        "id": "lQ7X6bIxphTb",
        "outputId": "b6a1ca85-b74b-4fe5-9c0e-6e247757de4a"
      },
      "execution_count": null,
      "outputs": [
        {
          "output_type": "stream",
          "name": "stdout",
          "text": [
            "La moda de la T2 es: 14\n"
          ]
        }
      ]
    },
    {
      "cell_type": "code",
      "source": [
        "var_moda_t3 = variable.groupBy(\"T3\").count().orderBy(col(\"count\").desc()).first()"
      ],
      "metadata": {
        "id": "1FBm2TKBpn8c"
      },
      "execution_count": null,
      "outputs": []
    },
    {
      "cell_type": "code",
      "source": [
        "print(\"La moda de la T3 es:\",var_moda_t3[\"T3\"])"
      ],
      "metadata": {
        "colab": {
          "base_uri": "https://localhost:8080/"
        },
        "id": "RVN-0uiipuVc",
        "outputId": "c63de9ec-a9df-4499-8214-3a9a6f13c2f4"
      },
      "execution_count": null,
      "outputs": [
        {
          "output_type": "stream",
          "name": "stdout",
          "text": [
            "La moda de la T3 es: 15\n"
          ]
        }
      ]
    },
    {
      "cell_type": "code",
      "source": [
        "var_moda_ef = variable.groupBy(\"EF\").count().orderBy(col(\"count\").desc()).first()"
      ],
      "metadata": {
        "id": "uRpBS4k3pxJV"
      },
      "execution_count": null,
      "outputs": []
    },
    {
      "cell_type": "code",
      "source": [
        "print(\"La moda del Examen Final es:\",var_moda_ef[\"EF\"])"
      ],
      "metadata": {
        "colab": {
          "base_uri": "https://localhost:8080/"
        },
        "id": "BORjllh6p6od",
        "outputId": "3d3ef78b-e73e-470b-a416-53c74732f612"
      },
      "execution_count": null,
      "outputs": [
        {
          "output_type": "stream",
          "name": "stdout",
          "text": [
            "La moda del Examen Final es: 16\n"
          ]
        }
      ]
    },
    {
      "cell_type": "markdown",
      "source": [
        "Hallar la Correlacion:"
      ],
      "metadata": {
        "id": "d4i24HD9s2uW"
      }
    },
    {
      "cell_type": "code",
      "source": [
        "correlacion = variable.select(corr(col(\"T1\"),col(\"T2\")).alias(\"correlacion\")).collect()[0][\"correlacion\"]"
      ],
      "metadata": {
        "id": "00OGJHJ1qBCl"
      },
      "execution_count": null,
      "outputs": []
    },
    {
      "cell_type": "code",
      "source": [
        "print(\"La correlacion de la T1 y la T2 es:\",correlacion)"
      ],
      "metadata": {
        "colab": {
          "base_uri": "https://localhost:8080/"
        },
        "id": "AqRoW5mSql6d",
        "outputId": "36051227-8956-42e9-c7e4-00929d0ee74d"
      },
      "execution_count": null,
      "outputs": [
        {
          "output_type": "stream",
          "name": "stdout",
          "text": [
            "La correlacion de la T1 y la T2 es: 0.6985354731356995\n"
          ]
        }
      ]
    },
    {
      "cell_type": "code",
      "source": [
        "correlacion2 = variable.select(corr(col(\"T3\"),col(\"EF\")).alias(\"correlacion2\")).collect()[0][\"correlacion2\"]"
      ],
      "metadata": {
        "id": "o92Uv1WuqqRl"
      },
      "execution_count": null,
      "outputs": []
    },
    {
      "cell_type": "code",
      "source": [
        "print(\"La correlacion de la T3 y el Examen Final es:\",correlacion2)"
      ],
      "metadata": {
        "colab": {
          "base_uri": "https://localhost:8080/"
        },
        "id": "SOKn_V_9qwkE",
        "outputId": "cd16f430-68d8-419b-c256-8f30659a312f"
      },
      "execution_count": null,
      "outputs": [
        {
          "output_type": "stream",
          "name": "stdout",
          "text": [
            "La correlacion de la T3 y el Examen Final es: 0.4285714285714289\n"
          ]
        }
      ]
    },
    {
      "cell_type": "code",
      "source": [
        "print(\"La correlacion Total de todas las Notas es:\", correlacion+correlacion2)"
      ],
      "metadata": {
        "colab": {
          "base_uri": "https://localhost:8080/"
        },
        "id": "SJflALEYq2Nl",
        "outputId": "db09cac3-ac5e-4f7d-cdf5-64f4a0da5986"
      },
      "execution_count": null,
      "outputs": [
        {
          "output_type": "stream",
          "name": "stdout",
          "text": [
            "La correlacion Total de todas las Notas es: 1.1271069017071285\n"
          ]
        }
      ]
    }
  ]
}